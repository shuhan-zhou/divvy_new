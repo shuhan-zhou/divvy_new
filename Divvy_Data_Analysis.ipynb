{
 "cells": [
  {
   "cell_type": "code",
   "execution_count": 101,
   "metadata": {},
   "outputs": [],
   "source": [
    "\n",
    "import pandas as pd\n",
    "import datetime as dt\n",
    "import matplotlib as plt\n",
    "import seaborn as sns\n",
    "sns.set(color_codes=True)\n",
    "\n",
    "%matplotlib inline"
   ]
  },
  {
   "cell_type": "markdown",
   "metadata": {},
   "source": [
    "## Who Use Divvy in Chicago and When??"
   ]
  },
  {
   "cell_type": "markdown",
   "metadata": {},
   "source": [
    "We can download data for every trip taken on divvy bike from its website: https://www.divvybikes.com/system-data\n",
    "\n",
    "For example if I check out the bike at millenium station, ride the bike to Chicago Public Library and return the bike to the dock in front of the library there, it counts as one trip. \n",
    "\n",
    "The data are organized by quarter for 2013 (when divvy was launched) to 2017. The size of data for this entire period is extremely huuuge. 10 Million observations and will take a long time to load even with json thus will make it inconvenient to analyze. Therefore, due to the scope of the project, we only selected data for 2017 and believe it is a good estimate for other years as well. \n",
    "\n",
    "Since divvy was introduced in 2013, the product/service is not super mature and we expect user behavior change a lot when adapting to a new service product. Even though 2017's data only has Q1 Q2 available right now, it indeed covers half a year and two seasons and should serve as a good candidate to understand bike usage variations. "
   ]
  },
  {
   "cell_type": "code",
   "execution_count": 102,
   "metadata": {},
   "outputs": [],
   "source": [
    "trips_2017_q1= pd.read_csv('/Users/shuhan_zhou/Documents/GitHub/divvy_new/Divvy_Trips_2017_Q1Q2/Divvy_Trips_2017_Q1.csv')"
   ]
  },
  {
   "cell_type": "code",
   "execution_count": 103,
   "metadata": {},
   "outputs": [],
   "source": [
    "trips_2017_q2= pd.read_csv('/Users/shuhan_zhou/Documents/GitHub/divvy_new/Divvy_Trips_2017_Q1Q2/Divvy_Trips_2017_Q2.csv')"
   ]
  },
  {
   "cell_type": "markdown",
   "metadata": {},
   "source": [
    "append two datasets together"
   ]
  },
  {
   "cell_type": "code",
   "execution_count": 104,
   "metadata": {},
   "outputs": [],
   "source": [
    "trips_2017 = trips_2017_q1.append(trips_2017_q2)"
   ]
  },
  {
   "cell_type": "code",
   "execution_count": 105,
   "metadata": {},
   "outputs": [],
   "source": [
    "trips_2017.set_index('trip_id', inplace=True)"
   ]
  },
  {
   "cell_type": "markdown",
   "metadata": {},
   "source": [
    "The dataset includes year of birth reported by users when the register for divvy bike. But, we are rather interested in their age than year of birth so we generate a new column for user's age in 2017"
   ]
  },
  {
   "cell_type": "code",
   "execution_count": 106,
   "metadata": {},
   "outputs": [],
   "source": [
    "trips_2017.loc[:,'current_year'] = 2017\n",
    "trips_2017['user_age'] = trips_2017['current_year'] - trips_2017['birthyear']"
   ]
  },
  {
   "cell_type": "code",
   "execution_count": 107,
   "metadata": {},
   "outputs": [
    {
     "data": {
      "text/html": [
       "<div>\n",
       "<style>\n",
       "    .dataframe thead tr:only-child th {\n",
       "        text-align: right;\n",
       "    }\n",
       "\n",
       "    .dataframe thead th {\n",
       "        text-align: left;\n",
       "    }\n",
       "\n",
       "    .dataframe tbody tr th {\n",
       "        vertical-align: top;\n",
       "    }\n",
       "</style>\n",
       "<table border=\"1\" class=\"dataframe\">\n",
       "  <thead>\n",
       "    <tr style=\"text-align: right;\">\n",
       "      <th></th>\n",
       "      <th>start_time</th>\n",
       "      <th>end_time</th>\n",
       "      <th>bikeid</th>\n",
       "      <th>tripduration</th>\n",
       "      <th>from_station_id</th>\n",
       "      <th>from_station_name</th>\n",
       "      <th>to_station_id</th>\n",
       "      <th>to_station_name</th>\n",
       "      <th>usertype</th>\n",
       "      <th>gender</th>\n",
       "      <th>birthyear</th>\n",
       "      <th>current_year</th>\n",
       "      <th>user_age</th>\n",
       "    </tr>\n",
       "    <tr>\n",
       "      <th>trip_id</th>\n",
       "      <th></th>\n",
       "      <th></th>\n",
       "      <th></th>\n",
       "      <th></th>\n",
       "      <th></th>\n",
       "      <th></th>\n",
       "      <th></th>\n",
       "      <th></th>\n",
       "      <th></th>\n",
       "      <th></th>\n",
       "      <th></th>\n",
       "      <th></th>\n",
       "      <th></th>\n",
       "    </tr>\n",
       "  </thead>\n",
       "  <tbody>\n",
       "    <tr>\n",
       "      <th>13518905</th>\n",
       "      <td>3/31/2017 23:59:07</td>\n",
       "      <td>4/1/2017 00:13:24</td>\n",
       "      <td>5292</td>\n",
       "      <td>857</td>\n",
       "      <td>66</td>\n",
       "      <td>Clinton St &amp; Lake St</td>\n",
       "      <td>171</td>\n",
       "      <td>May St &amp; Cullerton St</td>\n",
       "      <td>Subscriber</td>\n",
       "      <td>Male</td>\n",
       "      <td>1989.0</td>\n",
       "      <td>2017</td>\n",
       "      <td>28.0</td>\n",
       "    </tr>\n",
       "    <tr>\n",
       "      <th>13518904</th>\n",
       "      <td>3/31/2017 23:56:25</td>\n",
       "      <td>4/1/2017 00:00:21</td>\n",
       "      <td>4408</td>\n",
       "      <td>236</td>\n",
       "      <td>199</td>\n",
       "      <td>Wabash Ave &amp; Grand Ave</td>\n",
       "      <td>26</td>\n",
       "      <td>McClurg Ct &amp; Illinois St</td>\n",
       "      <td>Subscriber</td>\n",
       "      <td>Male</td>\n",
       "      <td>1990.0</td>\n",
       "      <td>2017</td>\n",
       "      <td>27.0</td>\n",
       "    </tr>\n",
       "    <tr>\n",
       "      <th>13518903</th>\n",
       "      <td>3/31/2017 23:55:33</td>\n",
       "      <td>4/1/2017 00:01:21</td>\n",
       "      <td>696</td>\n",
       "      <td>348</td>\n",
       "      <td>520</td>\n",
       "      <td>Greenview Ave &amp; Jarvis Ave</td>\n",
       "      <td>432</td>\n",
       "      <td>Clark St &amp; Lunt Ave</td>\n",
       "      <td>Subscriber</td>\n",
       "      <td>Female</td>\n",
       "      <td>1979.0</td>\n",
       "      <td>2017</td>\n",
       "      <td>38.0</td>\n",
       "    </tr>\n",
       "    <tr>\n",
       "      <th>13518902</th>\n",
       "      <td>3/31/2017 23:54:46</td>\n",
       "      <td>3/31/2017 23:59:34</td>\n",
       "      <td>4915</td>\n",
       "      <td>288</td>\n",
       "      <td>110</td>\n",
       "      <td>Dearborn St &amp; Erie St</td>\n",
       "      <td>142</td>\n",
       "      <td>McClurg Ct &amp; Erie St</td>\n",
       "      <td>Subscriber</td>\n",
       "      <td>Male</td>\n",
       "      <td>1985.0</td>\n",
       "      <td>2017</td>\n",
       "      <td>32.0</td>\n",
       "    </tr>\n",
       "    <tr>\n",
       "      <th>13518901</th>\n",
       "      <td>3/31/2017 23:53:33</td>\n",
       "      <td>4/1/2017 00:00:28</td>\n",
       "      <td>4247</td>\n",
       "      <td>415</td>\n",
       "      <td>327</td>\n",
       "      <td>Sheffield Ave &amp; Webster Ave</td>\n",
       "      <td>331</td>\n",
       "      <td>Halsted St &amp; Blackhawk St (*)</td>\n",
       "      <td>Subscriber</td>\n",
       "      <td>Female</td>\n",
       "      <td>1989.0</td>\n",
       "      <td>2017</td>\n",
       "      <td>28.0</td>\n",
       "    </tr>\n",
       "  </tbody>\n",
       "</table>\n",
       "</div>"
      ],
      "text/plain": [
       "                  start_time            end_time  bikeid  tripduration  \\\n",
       "trip_id                                                                  \n",
       "13518905  3/31/2017 23:59:07   4/1/2017 00:13:24    5292           857   \n",
       "13518904  3/31/2017 23:56:25   4/1/2017 00:00:21    4408           236   \n",
       "13518903  3/31/2017 23:55:33   4/1/2017 00:01:21     696           348   \n",
       "13518902  3/31/2017 23:54:46  3/31/2017 23:59:34    4915           288   \n",
       "13518901  3/31/2017 23:53:33   4/1/2017 00:00:28    4247           415   \n",
       "\n",
       "          from_station_id            from_station_name  to_station_id  \\\n",
       "trip_id                                                                 \n",
       "13518905               66         Clinton St & Lake St            171   \n",
       "13518904              199       Wabash Ave & Grand Ave             26   \n",
       "13518903              520   Greenview Ave & Jarvis Ave            432   \n",
       "13518902              110        Dearborn St & Erie St            142   \n",
       "13518901              327  Sheffield Ave & Webster Ave            331   \n",
       "\n",
       "                        to_station_name    usertype  gender  birthyear  \\\n",
       "trip_id                                                                  \n",
       "13518905          May St & Cullerton St  Subscriber    Male     1989.0   \n",
       "13518904       McClurg Ct & Illinois St  Subscriber    Male     1990.0   \n",
       "13518903            Clark St & Lunt Ave  Subscriber  Female     1979.0   \n",
       "13518902           McClurg Ct & Erie St  Subscriber    Male     1985.0   \n",
       "13518901  Halsted St & Blackhawk St (*)  Subscriber  Female     1989.0   \n",
       "\n",
       "          current_year  user_age  \n",
       "trip_id                           \n",
       "13518905          2017      28.0  \n",
       "13518904          2017      27.0  \n",
       "13518903          2017      38.0  \n",
       "13518902          2017      32.0  \n",
       "13518901          2017      28.0  "
      ]
     },
     "execution_count": 107,
     "metadata": {},
     "output_type": "execute_result"
    }
   ],
   "source": [
    "trips_2017.head()"
   ]
  },
  {
   "cell_type": "markdown",
   "metadata": {},
   "source": [
    "One way to see how good a dataset is by examining its \"missingness\""
   ]
  },
  {
   "cell_type": "markdown",
   "metadata": {},
   "source": [
    "From a glance, we can see we have roughly 1.5 Million trips taken in the first half of 2017. the average trip duration is 939 seconds (about 15 mins) which makes sense according to the anecdotal evidence that divvy bikes are used to get you through \"the last mile\". \n",
    "\n",
    "Average user age is around 36"
   ]
  },
  {
   "cell_type": "code",
   "execution_count": 108,
   "metadata": {},
   "outputs": [
    {
     "data": {
      "text/html": [
       "<div>\n",
       "<style>\n",
       "    .dataframe thead tr:only-child th {\n",
       "        text-align: right;\n",
       "    }\n",
       "\n",
       "    .dataframe thead th {\n",
       "        text-align: left;\n",
       "    }\n",
       "\n",
       "    .dataframe tbody tr th {\n",
       "        vertical-align: top;\n",
       "    }\n",
       "</style>\n",
       "<table border=\"1\" class=\"dataframe\">\n",
       "  <thead>\n",
       "    <tr style=\"text-align: right;\">\n",
       "      <th></th>\n",
       "      <th>bikeid</th>\n",
       "      <th>tripduration</th>\n",
       "      <th>from_station_id</th>\n",
       "      <th>to_station_id</th>\n",
       "      <th>birthyear</th>\n",
       "      <th>current_year</th>\n",
       "      <th>user_age</th>\n",
       "    </tr>\n",
       "  </thead>\n",
       "  <tbody>\n",
       "    <tr>\n",
       "      <th>count</th>\n",
       "      <td>1.551505e+06</td>\n",
       "      <td>1.551505e+06</td>\n",
       "      <td>1.551505e+06</td>\n",
       "      <td>1.551505e+06</td>\n",
       "      <td>1.234822e+06</td>\n",
       "      <td>1551505.0</td>\n",
       "      <td>1.234822e+06</td>\n",
       "    </tr>\n",
       "    <tr>\n",
       "      <th>mean</th>\n",
       "      <td>3.159740e+03</td>\n",
       "      <td>9.397778e+02</td>\n",
       "      <td>1.793282e+02</td>\n",
       "      <td>1.794676e+02</td>\n",
       "      <td>1.980864e+03</td>\n",
       "      <td>2017.0</td>\n",
       "      <td>3.613636e+01</td>\n",
       "    </tr>\n",
       "    <tr>\n",
       "      <th>std</th>\n",
       "      <td>1.728395e+03</td>\n",
       "      <td>1.617702e+03</td>\n",
       "      <td>1.318927e+02</td>\n",
       "      <td>1.319918e+02</td>\n",
       "      <td>1.099154e+01</td>\n",
       "      <td>0.0</td>\n",
       "      <td>1.099154e+01</td>\n",
       "    </tr>\n",
       "    <tr>\n",
       "      <th>min</th>\n",
       "      <td>1.000000e+00</td>\n",
       "      <td>6.000000e+01</td>\n",
       "      <td>2.000000e+00</td>\n",
       "      <td>2.000000e+00</td>\n",
       "      <td>1.899000e+03</td>\n",
       "      <td>2017.0</td>\n",
       "      <td>1.000000e+00</td>\n",
       "    </tr>\n",
       "    <tr>\n",
       "      <th>25%</th>\n",
       "      <td>1.657000e+03</td>\n",
       "      <td>3.920000e+02</td>\n",
       "      <td>7.400000e+01</td>\n",
       "      <td>7.400000e+01</td>\n",
       "      <td>1.975000e+03</td>\n",
       "      <td>2017.0</td>\n",
       "      <td>2.800000e+01</td>\n",
       "    </tr>\n",
       "    <tr>\n",
       "      <th>50%</th>\n",
       "      <td>3.318000e+03</td>\n",
       "      <td>6.700000e+02</td>\n",
       "      <td>1.530000e+02</td>\n",
       "      <td>1.530000e+02</td>\n",
       "      <td>1.984000e+03</td>\n",
       "      <td>2017.0</td>\n",
       "      <td>3.300000e+01</td>\n",
       "    </tr>\n",
       "    <tr>\n",
       "      <th>75%</th>\n",
       "      <td>4.689000e+03</td>\n",
       "      <td>1.127000e+03</td>\n",
       "      <td>2.680000e+02</td>\n",
       "      <td>2.680000e+02</td>\n",
       "      <td>1.989000e+03</td>\n",
       "      <td>2017.0</td>\n",
       "      <td>4.200000e+01</td>\n",
       "    </tr>\n",
       "    <tr>\n",
       "      <th>max</th>\n",
       "      <td>5.920000e+03</td>\n",
       "      <td>8.633800e+04</td>\n",
       "      <td>6.230000e+02</td>\n",
       "      <td>6.230000e+02</td>\n",
       "      <td>2.016000e+03</td>\n",
       "      <td>2017.0</td>\n",
       "      <td>1.180000e+02</td>\n",
       "    </tr>\n",
       "  </tbody>\n",
       "</table>\n",
       "</div>"
      ],
      "text/plain": [
       "             bikeid  tripduration  from_station_id  to_station_id  \\\n",
       "count  1.551505e+06  1.551505e+06     1.551505e+06   1.551505e+06   \n",
       "mean   3.159740e+03  9.397778e+02     1.793282e+02   1.794676e+02   \n",
       "std    1.728395e+03  1.617702e+03     1.318927e+02   1.319918e+02   \n",
       "min    1.000000e+00  6.000000e+01     2.000000e+00   2.000000e+00   \n",
       "25%    1.657000e+03  3.920000e+02     7.400000e+01   7.400000e+01   \n",
       "50%    3.318000e+03  6.700000e+02     1.530000e+02   1.530000e+02   \n",
       "75%    4.689000e+03  1.127000e+03     2.680000e+02   2.680000e+02   \n",
       "max    5.920000e+03  8.633800e+04     6.230000e+02   6.230000e+02   \n",
       "\n",
       "          birthyear  current_year      user_age  \n",
       "count  1.234822e+06     1551505.0  1.234822e+06  \n",
       "mean   1.980864e+03        2017.0  3.613636e+01  \n",
       "std    1.099154e+01           0.0  1.099154e+01  \n",
       "min    1.899000e+03        2017.0  1.000000e+00  \n",
       "25%    1.975000e+03        2017.0  2.800000e+01  \n",
       "50%    1.984000e+03        2017.0  3.300000e+01  \n",
       "75%    1.989000e+03        2017.0  4.200000e+01  \n",
       "max    2.016000e+03        2017.0  1.180000e+02  "
      ]
     },
     "execution_count": 108,
     "metadata": {},
     "output_type": "execute_result"
    }
   ],
   "source": [
    "trips_2017.describe()"
   ]
  },
  {
   "cell_type": "code",
   "execution_count": 109,
   "metadata": {},
   "outputs": [
    {
     "data": {
      "text/plain": [
       "start_time                0\n",
       "end_time                  0\n",
       "bikeid                    0\n",
       "tripduration              0\n",
       "from_station_id           0\n",
       "from_station_name         0\n",
       "to_station_id             0\n",
       "to_station_name           0\n",
       "usertype                  0\n",
       "gender               316867\n",
       "birthyear            316683\n",
       "current_year              0\n",
       "user_age             316683\n",
       "dtype: int64"
      ]
     },
     "execution_count": 109,
     "metadata": {},
     "output_type": "execute_result"
    }
   ],
   "source": [
    "trips_2017.isnull().sum()"
   ]
  },
  {
   "cell_type": "markdown",
   "metadata": {},
   "source": [
    "Forget about string variables for now, the reader might be asking why for gender birth year and user age the number of missings are (almost) the same? Well, user age is generated from birth year so it makes sense. \n",
    "\n",
    "gender and birth year....this is because divvy classify people who have used divvy into two categories:\n",
    "\n",
    "one time users, being reffered to as \"customers\". such as tourists\n",
    "subscribers who pay a monthly fee and use divvy probably very regularly. \n",
    "\n",
    "only subscribers report their gender and age when registering for divvy. makes sense now?\n",
    "\n",
    "we can verify by seeing how many customers are in the dataset"
   ]
  },
  {
   "cell_type": "code",
   "execution_count": 110,
   "metadata": {},
   "outputs": [
    {
     "data": {
      "text/plain": [
       "Subscriber    1234339\n",
       "Customer       317162\n",
       "Dependent           4\n",
       "Name: usertype, dtype: int64"
      ]
     },
     "execution_count": 110,
     "metadata": {},
     "output_type": "execute_result"
    }
   ],
   "source": [
    "trips_2017['usertype'].value_counts()"
   ]
  },
  {
   "cell_type": "markdown",
   "metadata": {},
   "source": [
    "As expected, there are around 310,000 trips undertaken by customers. which explains why gender and age info for those trips are not stored. Roughly 20% of all trips. It is a relatively high ratio in terms of missing ness, but since the entire dataset is over 1.5 million, we are not super concerned about it\n",
    "\n",
    "\n",
    "\n",
    "\n",
    "now we move on to analyzing the user characteristics of these trips"
   ]
  },
  {
   "cell_type": "code",
   "execution_count": 111,
   "metadata": {},
   "outputs": [],
   "source": [
    "##analysis of user characteristics\n",
    "trips_by_gender = trips_2017['gender'].value_counts()\n",
    "trips_by_age = trips_2017['user_age'].value_counts()"
   ]
  },
  {
   "cell_type": "code",
   "execution_count": 112,
   "metadata": {},
   "outputs": [
    {
     "data": {
      "text/plain": [
       "Male      935854\n",
       "Female    298784\n",
       "Name: gender, dtype: int64"
      ]
     },
     "execution_count": 112,
     "metadata": {},
     "output_type": "execute_result"
    }
   ],
   "source": [
    "trips_by_gender "
   ]
  },
  {
   "cell_type": "markdown",
   "metadata": {},
   "source": [
    "apparently divvy attracts more male users than females "
   ]
  },
  {
   "cell_type": "code",
   "execution_count": 113,
   "metadata": {},
   "outputs": [
    {
     "data": {
      "text/plain": [
       "28.0    76489\n",
       "26.0    64447\n",
       "29.0    64041\n",
       "27.0    63643\n",
       "30.0    62329\n",
       "Name: user_age, dtype: int64"
      ]
     },
     "execution_count": 113,
     "metadata": {},
     "output_type": "execute_result"
    }
   ],
   "source": [
    "trips_by_age.head()"
   ]
  },
  {
   "cell_type": "markdown",
   "metadata": {},
   "source": [
    "Not surprisingly, people in their late 20s use divvy bike a lot. probably because they need to get around places, commute, live in the city and dont have a car\n",
    "\n",
    "\n",
    "\n",
    "Another interesting statistics reported are the trip duration. Divvy has limits on how long can users ride their bike on each trip. trip duration also influences charge and serve as a good reflection on far each trip is. after all bike speed must be within a certain range\n",
    "\n",
    "First, we summarize the average trip duration by user gender"
   ]
  },
  {
   "cell_type": "code",
   "execution_count": 114,
   "metadata": {},
   "outputs": [
    {
     "name": "stdout",
     "output_type": "stream",
     "text": [
      "gender\n",
      "Female    783.663285\n",
      "Male      673.063025\n",
      "Name: tripduration, dtype: float64\n"
     ]
    }
   ],
   "source": [
    "average_duration_gender = trips_2017.groupby('gender').tripduration.mean()  #tripduration are in seconds\n",
    "print(average_duration_gender)"
   ]
  },
  {
   "cell_type": "markdown",
   "metadata": {},
   "source": [
    "As noted earlier, there are fewer female users than male ones BUT \n",
    "\n",
    "once female decide to use divvy bikes, they turn to ride longer trips(on average almost 2 mins longer)!\n",
    "\n",
    "\n",
    "It is important to note that trip duration does not imply distance between starting point and final destination as people can ride in circles, get lost travel back and forth etc...... \n",
    "\n",
    "\n",
    "\n",
    "Stereotypically females are less athletic and more risk averse so it could be that females simply ride their bikes more slowly. But it is also possible that females only use divvy bike when they are going to further places.\n",
    "\n",
    "Without more information/data on individual usage, we are unable to really find the cause why female trips are longer.  "
   ]
  },
  {
   "cell_type": "markdown",
   "metadata": {},
   "source": [
    "Next, average trip duration by user age"
   ]
  },
  {
   "cell_type": "code",
   "execution_count": 115,
   "metadata": {},
   "outputs": [
    {
     "data": {
      "image/png": "[encoded data removed]",
      "text/plain": [
       "<matplotlib.figure.Figure at 0x1226a48d0>"
      ]
     },
     "metadata": {},
     "output_type": "display_data"
    }
   ],
   "source": [
    "average_duration_age = trips_2017.groupby('user_age').tripduration.mean()  #tripduration are in seconds\n",
    "ax = average_duration_age.plot(linewidth = 4)\n",
    "\n",
    "ax.set_xlabel(\"User Age\")\n",
    "ax.set_ylabel(\"Average Trip Duration (in seconds)\");\n",
    "fig = ax.get_figure()\n",
    "fig.savefig('Trip Duration by Age.png')"
   ]
  },
  {
   "cell_type": "markdown",
   "metadata": {},
   "source": [
    "We do not expect people under the age of 10 or above 90 to use divvy bike for all sorts of reasons (their physical capacity, divvy bike's fit etc). But we can see there are users under the age of 10 and above 100, even 120 years old! we regard these incidences as errors from the entry or simply some people do not wish to disclose their age to divvy. \n",
    "\n",
    "\n",
    "\n",
    "\n",
    "\n",
    "Looking at valid observations for users between 20-80 year old. the average trip duration roughly stays the same level (around 600 seconds, i.e. 10 mins). \n",
    "\n",
    "for users aged over 60, it starts to show large variations which is sensible because physical condition for the elders also has large variations which in turn influences the amount of time they feel comfortable riding a bike. "
   ]
  },
  {
   "cell_type": "code",
   "execution_count": 116,
   "metadata": {},
   "outputs": [
    {
     "name": "stdout",
     "output_type": "stream",
     "text": [
      "usertype\n",
      "Customer      1873.963095\n",
      "Dependent      454.250000\n",
      "Subscriber     699.741475\n",
      "Name: tripduration, dtype: float64\n"
     ]
    }
   ],
   "source": [
    "average_duration_usertype = trips_2017.groupby('usertype').tripduration.mean()  #tripduration are in seconds\n",
    "print(average_duration_usertype)"
   ]
  },
  {
   "cell_type": "code",
   "execution_count": 117,
   "metadata": {},
   "outputs": [
    {
     "data": {
      "image/png": "[encoded data removed]",
      "text/plain": [
       "<matplotlib.figure.Figure at 0x12502d0b8>"
      ]
     },
     "metadata": {},
     "output_type": "display_data"
    }
   ],
   "source": [
    "ax = average_duration_usertype.plot(kind = 'bar')\n",
    "ax.autolayout: True\n",
    "\n",
    "ax.set_xlabel(\"User Type\")\n",
    "ax.set_ylabel(\"Average Trip Duration (in seconds)\")\n",
    "\n",
    "fig = ax.get_figure()\n",
    "fig.tight_layout()\n",
    "fig.subplots_adjust(top=0.8)\n",
    "fig.savefig('Trip Duration by User Type.png')"
   ]
  },
  {
   "cell_type": "markdown",
   "metadata": {},
   "source": [
    "One time user (customers) ride divvy bikes much longer than subscriber users (20 mins longer!). \n",
    "\n",
    "\n",
    "\n",
    "\n",
    "\n",
    "Economic intuition can explain this phenomenon: once the \"customer\" paid their fees, it became a sunk cost, and they want to make the most out of this one time use. Whereas subscribers pay a monthly fee and use divvy bikes more regularly; they can benefit from the number of trips, not necessarily the duration of the trips.\n",
    "\n",
    "\n",
    "\n",
    "Also, we expect subscribers who have full time work/study and more likely to use divvy bikes to travel between fixed points. A portion of \"customers\" could be tourists who have less time constraint to use divvy.   \n",
    "\n",
    "\n",
    "Dependents have the shortest (in time) divvy bikes. it is possible they are kids so they dont like riding bikes, or they dont have very far place to be"
   ]
  },
  {
   "cell_type": "markdown",
   "metadata": {
    "collapsed": true
   },
   "source": [
    "### When Do Divvy Trips Happen?\n",
    "\n",
    "\n",
    "After looking at the user side of story, we now turn the trips themselves. \n",
    "\n",
    "When do divvy trips happen? Is there a pattern in time, seasonality etc?\n",
    "\n",
    "\n",
    "        -when do most trips happen?\n",
    "        -how do trip duration vary according to time? \n",
    "\n",
    "Before we get to the details, need to clean the date time column a bit"
   ]
  },
  {
   "cell_type": "code",
   "execution_count": 118,
   "metadata": {},
   "outputs": [],
   "source": [
    "trips_2017['start_time_formatted'] =  pd.to_datetime(trips_2017['start_time'], format='%m/%d/%Y %H:%M:%S')\n",
    "trips_2017['end_time_formatted'] =  pd.to_datetime(trips_2017['end_time'], format='%m/%d/%Y %H:%M:%S')"
   ]
  },
  {
   "cell_type": "code",
   "execution_count": 119,
   "metadata": {},
   "outputs": [],
   "source": [
    "trips_2017['start_time_time']= trips_2017['start_time_formatted'].dt.time\n",
    "trips_2017['end_time_time']= trips_2017['end_time_formatted'].dt.time\n",
    "trips_2017['start_date']= trips_2017['start_time_formatted'].dt.date\n",
    "trips_2017['end_date']= trips_2017['end_time_formatted'].dt.date"
   ]
  },
  {
   "cell_type": "code",
   "execution_count": 120,
   "metadata": {},
   "outputs": [],
   "source": [
    "#return day of the week as an integer where Monday is 0 and Sunday is 6\n",
    "trips_2017['start_day_of_week']= trips_2017['start_time_formatted'].dt.weekday\n",
    "trips_2017['end_day_of_week']= trips_2017['end_time_formatted'].dt.weekday"
   ]
  },
  {
   "cell_type": "markdown",
   "metadata": {},
   "source": [
    "Within a day, what time is the most popular hour for divvy\n",
    "\n",
    "\n",
    "\n",
    "As we found out earlier, most trips are around 10-15 minutes. So here, we simply assume end hour of the trip is roughly the start hour of the trip therefore do not redundtly repeat the same exercise for end time for trips."
   ]
  },
  {
   "cell_type": "code",
   "execution_count": 121,
   "metadata": {},
   "outputs": [
    {
     "data": {
      "image/png": "[encoded data removed]",
      "text/plain": [
       "<matplotlib.figure.Figure at 0x119e6c2e8>"
      ]
     },
     "metadata": {},
     "output_type": "display_data"
    }
   ],
   "source": [
    "\n",
    "ax = trips_2017['start_time_time'].value_counts()[:20].plot(kind='barh')\n",
    "\n",
    "ax.set_xlabel(\"Number of Trips\")\n",
    "ax.set_ylabel(\"Trip Start Time of the Day\");\n",
    "fig = ax.get_figure()\n",
    "fig.savefig('Number of Trips by start time of day.png')"
   ]
  },
  {
   "cell_type": "markdown",
   "metadata": {},
   "source": [
    "In terms of total number of trips of a given time stamp, the top 20 start times are all around 17:00 which is the off-work rush hour for most people. \n",
    "\n",
    "In the above plot, time is stored specific to the second. But we do not need such a precise time measure, what if we just wanna see which hour is the most popular hour for divvy?"
   ]
  },
  {
   "cell_type": "code",
   "execution_count": 122,
   "metadata": {},
   "outputs": [],
   "source": [
    "trips_2017['start_time_hour']= trips_2017['start_time_formatted'].dt.hour"
   ]
  },
  {
   "cell_type": "code",
   "execution_count": 123,
   "metadata": {},
   "outputs": [
    {
     "data": {
      "image/png": "[encoded data removed]",
      "text/plain": [
       "<matplotlib.figure.Figure at 0x1227f35f8>"
      ]
     },
     "metadata": {},
     "output_type": "display_data"
    }
   ],
   "source": [
    "ax = trips_2017['start_time_hour'].value_counts().plot(kind='barh')\n",
    "\n",
    "ax.set_xlabel(\"Number of Trips\")\n",
    "ax.set_ylabel(\"Trip Start Hour of the Day\");\n",
    "fig = ax.get_figure()\n",
    "fig.savefig('Number of Trips by start hour of day.png')"
   ]
  },
  {
   "cell_type": "markdown",
   "metadata": {},
   "source": [
    "Not surprisingly, as accurate as to the hour, a lot of trips start at 16 o'clock, 17 o'clock followed by 8 o'clock and 18 o'clock. These are clearly commute hours. Validating the assumption again that divvy bikes are mostly used for last mile of commute. "
   ]
  },
  {
   "cell_type": "code",
   "execution_count": 124,
   "metadata": {},
   "outputs": [
    {
     "name": "stderr",
     "output_type": "stream",
     "text": [
      "/Applications/anaconda/envs/py-geo/lib/python3.6/site-packages/seaborn/timeseries.py:183: UserWarning: The tsplot function is deprecated and will be removed or replaced (in a substantially altered version) in a future release.\n",
      "  warnings.warn(msg, UserWarning)\n"
     ]
    },
    {
     "data": {
      "image/png": "[encoded data removed]",
      "text/plain": [
       "<matplotlib.figure.Figure at 0x12284a208>"
      ]
     },
     "metadata": {},
     "output_type": "display_data"
    }
   ],
   "source": [
    "average_duration_hour = trips_2017.groupby('start_time_hour').tripduration.mean()  #tripduration are in seconds\n",
    "\n",
    "\n",
    "ax = sns.tsplot(data=average_duration_hour, linewidth = 4)\n",
    "\n",
    "ax.set_xlabel(\"Trip Start Hour\")\n",
    "ax.set_ylabel(\"Average Trip Duration (in seconds)\");\n",
    "fig = ax.get_figure()\n",
    "fig.savefig('Trip Duration by Hour.png')"
   ]
  },
  {
   "cell_type": "markdown",
   "metadata": {},
   "source": [
    "In terms of trip duration, people are making longer trips from 10 to 3pm and after midnight. \n",
    "Trip duration is increasing for the time period from 6am to 10 am and from 9 pm to 3 am. \n",
    "\n",
    "Potentially whats going on? \n",
    "\n",
    "\n",
    "Our guesses:\n",
    "\n",
    "\n",
    "1) people are tired after work and turn to ride their bikes slower compared to during the day when they are more energetic. \n",
    "\n",
    "2) people are travelling to further places in the evening. Since the big increase in trip duration happens after 10pm, we can guess that people may ride their bikes after going out ot working late. "
   ]
  },
  {
   "cell_type": "code",
   "execution_count": 125,
   "metadata": {},
   "outputs": [],
   "source": [
    "trips_2017.loc[trips_2017['start_day_of_week'] == 0,'day_label'] = 'Monday'\n",
    "trips_2017.loc[trips_2017['start_day_of_week'] == 1,'day_label'] = 'Tuesday'\n",
    "trips_2017.loc[trips_2017['start_day_of_week'] == 2,'day_label'] = 'Wednesday'\n",
    "trips_2017.loc[trips_2017['start_day_of_week'] == 3,'day_label'] = 'Thursday'\n",
    "trips_2017.loc[trips_2017['start_day_of_week'] == 4,'day_label'] = 'Friday'\n",
    "trips_2017.loc[trips_2017['start_day_of_week'] == 5,'day_label'] = 'Saturday'\n",
    "trips_2017.loc[trips_2017['start_day_of_week'] == 6,'day_label'] = 'Sunday'"
   ]
  },
  {
   "cell_type": "code",
   "execution_count": 126,
   "metadata": {},
   "outputs": [
    {
     "data": {
      "image/png": "[encoded data removed]",
      "text/plain": [
       "<matplotlib.figure.Figure at 0x1723d8390>"
      ]
     },
     "metadata": {},
     "output_type": "display_data"
    }
   ],
   "source": [
    "ax = trips_2017['day_label'].value_counts().plot(kind='barh')\n",
    "\n",
    "ax.set_xlabel(\"Number of Trips\")\n",
    "ax.set_ylabel(\"Day of the Week\");\n",
    "fig = ax.get_figure()\n",
    "fig.savefig('Number of Trips by Day of the Week.png')"
   ]
  },
  {
   "cell_type": "markdown",
   "metadata": {},
   "source": [
    "There is no big variations in the number of trips by which day of the week. If any, Monday and Tuesday are the more popular days; Sunday and Saturday, relatively fewer people use divvy bikes. "
   ]
  },
  {
   "cell_type": "code",
   "execution_count": 128,
   "metadata": {},
   "outputs": [
    {
     "data": {
      "image/png": "[encoded data removed]",
      "text/plain": [
       "<matplotlib.figure.Figure at 0x125042908>"
      ]
     },
     "metadata": {},
     "output_type": "display_data"
    }
   ],
   "source": [
    "average_duration_day = trips_2017.groupby('day_label').tripduration.mean()\n",
    "\n",
    "\n",
    "ax = average_duration_day.plot(kind = 'bar')\n",
    "ax.autolayout: True\n",
    "\n",
    "ax.set_xlabel(\"Day of Week\")\n",
    "ax.set_ylabel(\"Average Trip Duration (in seconds)\")\n",
    "\n",
    "fig = ax.get_figure()\n",
    "fig.tight_layout()\n",
    "fig.subplots_adjust(top=0.8)\n",
    "fig.savefig('Trip Duration by Day.png')"
   ]
  },
  {
   "cell_type": "markdown",
   "metadata": {
    "collapsed": true
   },
   "source": [
    "Interestingly, even though people use divvy bikes less often on the weekends but they do make longer trips. \n",
    "It is likely on the weekend that they have the luxury of spending more, riding their bike slowly as leisure activity instead of a means of transportation"
   ]
  },
  {
   "cell_type": "code",
   "execution_count": 131,
   "metadata": {},
   "outputs": [
    {
     "data": {
      "image/png": "[encoded data removed]",
      "text/plain": [
       "<matplotlib.figure.Figure at 0x122b673c8>"
      ]
     },
     "metadata": {},
     "output_type": "display_data"
    }
   ],
   "source": [
    "ax = trips_2017['start_date'].value_counts()[:20].plot(kind='barh')\n",
    "\n",
    "ax.set_xlabel(\"Number of Trips\")\n",
    "ax.set_ylabel(\"Trip Date\");\n",
    "fig = ax.get_figure()\n",
    "fig.savefig('Number of Trips by Date.png')"
   ]
  },
  {
   "cell_type": "markdown",
   "metadata": {},
   "source": [
    "This bar chart shows on June 24 2017, divvy bike usage reached its peak within year 2017. And the top 20 daily usage are all in May and June (except one in April). We are curious whether it is because people like to spend more time biking in the summer. Therefore we produce the time series plot below. "
   ]
  },
  {
   "cell_type": "markdown",
   "metadata": {},
   "source": [
    "Generally, the usage of divvy bikes has been increasing in 2017 despite the variations within each month. We can attribute this increase to either 1) divvy has become more popular or expanding its services 2) as weather gets warmer, people are more willing to use divvy bikes. We now test the second hypothesis by examining the duration change over time. "
   ]
  },
  {
   "cell_type": "code",
   "execution_count": 133,
   "metadata": {},
   "outputs": [
    {
     "data": {
      "image/png": "[encoded data removed]",
      "text/plain": [
       "<matplotlib.figure.Figure at 0x120350d68>"
      ]
     },
     "metadata": {},
     "output_type": "display_data"
    }
   ],
   "source": [
    "average_duration_date = trips_2017.groupby('start_date').tripduration.mean()\n",
    "\n",
    "\n",
    "ax = average_duration_date.plot(linewidth = 4)\n",
    "ax.autolayout: True\n",
    "\n",
    "ax.set_xlabel(\"Date\")\n",
    "ax.set_ylabel(\"Average Trip Duration (in seconds)\")\n",
    "\n",
    "fig = ax.get_figure()\n",
    "fig.tight_layout()\n",
    "fig.subplots_adjust(top=0.8)\n",
    "fig.savefig('Trip Duration by Date.png')"
   ]
  },
  {
   "cell_type": "markdown",
   "metadata": {},
   "source": [
    "From the plot above, we can see average trip duration increased from January to July, verifying the assumption that people are willing to spend more time on their divvy bikes as the weather gets warmer. \n",
    "\n",
    "There is a big jump in trip duration in January and in February and more jumps in April and June, which can also verify that temperature is a factor taken into account when people make decision whether to use divvy bike or not. \n",
    "\n",
    "Now we aggregate average trip duration at the month levle to make the visualization clearer:"
   ]
  },
  {
   "cell_type": "code",
   "execution_count": 135,
   "metadata": {},
   "outputs": [],
   "source": [
    "trips_2017['start_time_month']= trips_2017['start_time_formatted'].dt.month\n",
    "\n",
    "average_duration_month = trips_2017.groupby('start_time_month').tripduration.mean()"
   ]
  },
  {
   "cell_type": "code",
   "execution_count": 136,
   "metadata": {},
   "outputs": [
    {
     "data": {
      "image/png": "[encoded data removed]",
      "text/plain": [
       "<matplotlib.figure.Figure at 0x12035c320>"
      ]
     },
     "metadata": {},
     "output_type": "display_data"
    }
   ],
   "source": [
    "ax = trips_2017['start_time_month'].value_counts().plot(kind='barh')\n",
    "\n",
    "ax.set_xlabel(\"Number of Trips\")\n",
    "ax.set_ylabel(\"Trip Month\");\n",
    "fig = ax.get_figure()\n",
    "fig.savefig('Number of Trips by Month.png')"
   ]
  },
  {
   "cell_type": "markdown",
   "metadata": {},
   "source": [
    "Very clear, big jump from April to May and from May to June. Feburary and March have very similar number of trips and in Chicago, the temperature for these two months do not vary much"
   ]
  },
  {
   "cell_type": "code",
   "execution_count": 140,
   "metadata": {},
   "outputs": [
    {
     "data": {
      "image/png": "[encoded data removed]",
      "text/plain": [
       "<matplotlib.figure.Figure at 0x1235465c0>"
      ]
     },
     "metadata": {},
     "output_type": "display_data"
    }
   ],
   "source": [
    "average_duration_month = trips_2017.groupby('start_time_month').tripduration.mean()\n",
    "\n",
    "\n",
    "\n",
    "ax = average_duration_month.plot(kind = 'bar')\n",
    "ax.autolayout: True\n",
    "    \n",
    "ax.set_xlabel(\"Month\")\n",
    "ax.set_ylabel(\"Average Trip Duration (in seconds)\");\n",
    "fig = ax.get_figure()\n",
    "fig.savefig('Trip Duration by Hour.png')"
   ]
  },
  {
   "cell_type": "markdown",
   "metadata": {},
   "source": [
    "Average duration of trips remain at similar levels for April, May and June where as January February and March remain at a stable but lower level. This variation can also be attribued to temperature: when its warmer, people love to spend more time outside. "
   ]
  },
  {
   "cell_type": "code",
   "execution_count": null,
   "metadata": {},
   "outputs": [],
   "source": []
  }
 ],
 "metadata": {
  "kernelspec": {
   "display_name": "Python 3",
   "language": "python",
   "name": "python3"
  },
  "language_info": {
   "codemirror_mode": {
    "name": "ipython",
    "version": 3
   },
   "file_extension": ".py",
   "mimetype": "text/x-python",
   "name": "python",
   "nbconvert_exporter": "python",
   "pygments_lexer": "ipython3",
   "version": "3.6.3"
  }
 },
 "nbformat": 4,
 "nbformat_minor": 2
}
